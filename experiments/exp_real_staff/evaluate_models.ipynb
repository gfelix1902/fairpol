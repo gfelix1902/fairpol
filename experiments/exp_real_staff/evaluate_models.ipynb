{
    "cells": [
     {
      "cell_type": "code",
      "execution_count": null,
      "id": "1a2b3c4d",
      "metadata": {},
      "outputs": [],
      "source": [
       "from experiments.model_evaluation import get_policy_predictions, get_table_pvalues_conditional\n",
       "import utils\n",
       "import joblib\n",
       "import os"
      ]
     },
     {
      "cell_type": "code",
      "execution_count": null,
      "id": "5e6f7a8b",
      "metadata": {},
      "outputs": [],
      "source": [
       "# Lade die Konfiguration\n",
       "try:\n",
       "    config_exp = utils.load_yaml(\"/experiments/exp_real_staff/config_real_staff\")\n",
       "except FileNotFoundError:\n",
       "    print(\"❌ Fehler: Konfigurationsdatei nicht gefunden.\")\n",
       "    exit()"
      ]
     },
     {
      "cell_type": "code",
      "execution_count": null,
      "id": "9a0b1c2d",
      "metadata": {},
      "outputs": [],
      "source": [
       "# Setze den Datensatztyp\n",
       "config_exp[\"data\"][\"dataset\"] = \"real_staff\""
      ]
     },
     {
      "cell_type": "code",
      "execution_count": null,
      "id": "3d4e5f6a",
      "metadata": {},
      "outputs": [],
      "source": [
       "try:\n",
       "    # Lade die Daten\n",
       "    datasets = utils.load_data(config_exp[\"data\"], seed=config_exp[\"experiment\"][\"seed\"])\n",
       "\n",
       "    # Lade die trainierten Modelle\n",
       "    path_models = utils.get_project_path() + \"/results/exp_real_staff/models/\"\n",
       "    trained_models = joblib.load(os.path.join(path_models, \"trained_models.pkl\"))\n",
       "    print(f\"✅ Trainierte Modelle geladen aus: {path_models}\")\n",
       "\n",
       "    # Führe die Evaluation durch\n",
       "    policy_predictions = get_policy_predictions(trained_models, datasets[\"d_test\"], data_type=config_exp[\"data\"][\"dataset\"])\n",
       "    pvalues_conditional = get_table_pvalues_conditional(trained_models, datasets[\"d_test\"], data_type=config_exp[\"data\"][\"dataset\"])\n",
       "\n",
       "    # Speicherort für die Ergebnisse\n",
       "    path_results = utils.get_project_path() + \"/results/exp_real_staff/table/\"\n",
       "    os.makedirs(path_results, exist_ok=True)\n",
       "\n",
       "    # Speichere die Ergebnisse\n",
       "    joblib.dump(policy_predictions, os.path.join(path_results, \"policy_predictions.pkl\"))\n",
       "    joblib.dump(pvalues_conditional, os.path.join(path_results, \"pvalues_conditional.pkl\"))\n",
       "    print(f\"💾 Ergebnisse gespeichert unter: {path_results}\")\n",
       "\n",
       "except Exception as e:\n",
       "    print(f\"❌ Fehler während der Evaluation: {e}\")"
      ]
     }
    ],
    "metadata": {
     "kernelspec": {
      "display_name": "Python 3",
      "language": "python",
      "name": "python3"
     },
     "language_info": {
      "codemirror_mode": {
       "name": "ipython",
       "version": 3
      },
      "file_extension": ".py",
      "mimetype": "text/x-python",
      "name": "python",
      "nbconvert_exporter": "python",
      "pygments_lexer": "ipython3",
      "version": "3.8.10"
     }
    },
    "nbformat": 4,
    "nbformat_minor": 5
   }