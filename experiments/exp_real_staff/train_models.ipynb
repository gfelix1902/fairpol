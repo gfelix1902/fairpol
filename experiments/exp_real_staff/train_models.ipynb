{
    "cells": [
     {
      "cell_type": "code",
      "execution_count": null,
      "id": "1b2f3c4d",
      "metadata": {},
      "outputs": [],
      "source": [
        "import sys\n",
        "import os\n",
        "sys.path.append(os.path.abspath(os.path.join(os.path.dirname(__file__), '../../..')))\n",
       "from experiments.model_training import train_models\n",
       "import utils\n",
       "import joblib\n",
       "import os"
      ]
     },
     {
      "cell_type": "code",
      "execution_count": null,
      "id": "5e6f7a8b",
      "metadata": {},
      "outputs": [],
      "source": [
       "# Lade die Konfiguration\n",
       "try:\n",
       "    config_exp = utils.load_yaml(\"/experiments/exp_real_staff/config_real_staff\")\n",
       "except FileNotFoundError:\n",
       "    print(\"❌ Fehler: Konfigurationsdatei nicht gefunden.\")\n",
       "    exit()"
      ]
     },
     {
      "cell_type": "code",
      "execution_count": null,
      "id": "9a0b1c2d",
      "metadata": {},
      "outputs": [],
      "source": [
       "# Setze den Datensatztyp\n",
       "config_exp[\"data\"][\"dataset\"] = \"real_staff\""
      ]
     },
     {
      "cell_type": "code",
      "execution_count": null,
      "id": "3d4e5f6a",
      "metadata": {},
      "outputs": [],
      "source": [
       "try:\n",
       "    # Lade die Daten\n",
       "    datasets = utils.load_data(config_exp[\"data\"], seed=config_exp[\"experiment\"][\"seed\"])\n",
       "\n",
       "    # Trainiere die Modelle\n",
       "    trained_models = train_models(config_exp, datasets, seed=config_exp[\"experiment\"][\"seed\"])\n",
       "\n",
       "    # Speicherort für die trainierten Modelle\n",
       "    path_models = utils.get_project_path() + \"/results/exp_real_staff/models/\"\n",
       "    os.makedirs(path_models, exist_ok=True)\n",
       "\n",
       "    # Speichere die trainierten Modelle\n",
       "    joblib.dump(trained_models, os.path.join(path_models, \"trained_models.pkl\"))\n",
       "    print(f\"💾 Trainierte Modelle gespeichert unter: {path_models}\")\n",
       "\n",
       "except Exception as e:\n",
       "    print(f\"❌ Fehler während des Trainings: {e}\")"
      ]
     }
    ],
    "metadata": {
     "kernelspec": {
      "display_name": "Python 3",
      "language": "python",
      "name": "python3"
     },
     "language_info": {
      "codemirror_mode": {
       "name": "ipython",
       "version": 3
      },
      "file_extension": ".py",
      "mimetype": "text/x-python",
      "name": "python",
      "nbconvert_exporter": "python",
      "pygments_lexer": "ipython3",
      "version": "3.8.10"
     }
    },
    "nbformat": 4,
    "nbformat_minor": 5
   }
